{
 "cells": [
  {
   "cell_type": "code",
   "execution_count": 1,
   "id": "60c8fbf1",
   "metadata": {
    "_cell_guid": "b1076dfc-b9ad-4769-8c92-a6c4dae69d19",
    "_uuid": "8f2839f25d086af736a60e9eeb907d3b93b6e0e5",
    "execution": {
     "iopub.execute_input": "2025-03-11T06:47:39.323726Z",
     "iopub.status.busy": "2025-03-11T06:47:39.323378Z",
     "iopub.status.idle": "2025-03-11T06:47:39.693247Z",
     "shell.execute_reply": "2025-03-11T06:47:39.692342Z"
    },
    "papermill": {
     "duration": 0.375563,
     "end_time": "2025-03-11T06:47:39.694887",
     "exception": false,
     "start_time": "2025-03-11T06:47:39.319324",
     "status": "completed"
    },
    "tags": []
   },
   "outputs": [],
   "source": [
    "#-- Import libraries ------------------------------------------------------------------------------------------------------\n",
    "import os\n",
    "import cv2\n",
    "import random\n",
    "import numpy as np\n",
    "import matplotlib.pyplot as plt\n",
    "#---------------------------------------------------------------------------------------------------------------------------"
   ]
  },
  {
   "cell_type": "code",
   "execution_count": 2,
   "id": "a6946281",
   "metadata": {
    "execution": {
     "iopub.execute_input": "2025-03-11T06:47:39.701397Z",
     "iopub.status.busy": "2025-03-11T06:47:39.701072Z",
     "iopub.status.idle": "2025-03-11T06:47:39.706207Z",
     "shell.execute_reply": "2025-03-11T06:47:39.705469Z"
    },
    "papermill": {
     "duration": 0.009773,
     "end_time": "2025-03-11T06:47:39.707670",
     "exception": false,
     "start_time": "2025-03-11T06:47:39.697897",
     "status": "completed"
    },
    "tags": []
   },
   "outputs": [],
   "source": [
    "#-- Initialize -------------------------------------------------------------------------------------------------------------\n",
    "batch_size = 2000\n",
    "batch_number = 0\n",
    "N_BACKS = 5\n",
    "darkening_factor = 0.2\n",
    "\n",
    "backgrounds_path = \"/kaggle/input/n-drone-clear-backs/backgrounds/\"  \n",
    "drones_path = \"/kaggle/input/n-drone-clear-drones/drones/\"  \n",
    "output_path = f\"dataset_no_scale_part_{batch_number+1}\"  \n",
    "\n",
    "os.makedirs(output_path, exist_ok=True)\n",
    "os.makedirs(os.path.join(output_path, \"images\"), exist_ok=True)\n",
    "os.makedirs(os.path.join(output_path, \"labels\"), exist_ok=True)\n",
    "#---------------------------------------------------------------------------------------------------------------------------"
   ]
  },
  {
   "cell_type": "code",
   "execution_count": 3,
   "id": "0fdca707",
   "metadata": {
    "execution": {
     "iopub.execute_input": "2025-03-11T06:47:39.713566Z",
     "iopub.status.busy": "2025-03-11T06:47:39.713287Z",
     "iopub.status.idle": "2025-03-11T06:47:39.788316Z",
     "shell.execute_reply": "2025-03-11T06:47:39.787173Z"
    },
    "papermill": {
     "duration": 0.079632,
     "end_time": "2025-03-11T06:47:39.789863",
     "exception": false,
     "start_time": "2025-03-11T06:47:39.710231",
     "status": "completed"
    },
    "tags": []
   },
   "outputs": [
    {
     "name": "stdout",
     "output_type": "stream",
     "text": [
      "number of background images: 5687\n",
      "number of drone images: 369\n"
     ]
    }
   ],
   "source": [
    "#-- get all backgrounds and drones as 2 lists ------------------------------------------------------------------------------\n",
    "backgrounds = [os.path.join(backgrounds_path, f) for f in os.listdir(backgrounds_path)]            \n",
    "drones = [os.path.join(drones_path, f) for f in os.listdir(drones_path)]\n",
    "\n",
    "backgrounds = sorted(backgrounds)\n",
    "drones = sorted(drones)\n",
    "\n",
    "print(f'number of background images: {len(backgrounds)}')\n",
    "print(f'number of drone images: {len(drones)}')\n",
    "#---------------------------------------------------------------------------------------------------------------------------"
   ]
  },
  {
   "cell_type": "code",
   "execution_count": 4,
   "id": "6497235c",
   "metadata": {
    "execution": {
     "iopub.execute_input": "2025-03-11T06:47:39.796024Z",
     "iopub.status.busy": "2025-03-11T06:47:39.795738Z",
     "iopub.status.idle": "2025-03-11T06:47:39.801010Z",
     "shell.execute_reply": "2025-03-11T06:47:39.800122Z"
    },
    "papermill": {
     "duration": 0.009899,
     "end_time": "2025-03-11T06:47:39.802477",
     "exception": false,
     "start_time": "2025-03-11T06:47:39.792578",
     "status": "completed"
    },
    "tags": []
   },
   "outputs": [
    {
     "name": "stdout",
     "output_type": "stream",
     "text": [
      "Processing batch 1/1, drones 0 to 368\n"
     ]
    }
   ],
   "source": [
    "#-- set batch ---------------------------------------------------------------------------------------------------------------\n",
    "total_drones = len(drones)  \n",
    "if total_drones == 0:\n",
    "    raise ValueError(\"No drones found in the dataset!\")\n",
    "\n",
    "drones_per_batch = max(1, batch_size // N_BACKS)  \n",
    "num_batches = (total_drones + drones_per_batch - 1) // drones_per_batch  \n",
    "\n",
    "start_idx = batch_number * drones_per_batch\n",
    "end_idx = min(start_idx + drones_per_batch, total_drones)  \n",
    "\n",
    "print(f\"Processing batch {batch_number + 1}/{num_batches}, drones {start_idx} to {end_idx - 1}\")\n",
    "#---------------------------------------------------------------------------------------------------------------------------"
   ]
  },
  {
   "cell_type": "code",
   "execution_count": 5,
   "id": "9c8beb59",
   "metadata": {
    "execution": {
     "iopub.execute_input": "2025-03-11T06:47:39.808602Z",
     "iopub.status.busy": "2025-03-11T06:47:39.808305Z",
     "iopub.status.idle": "2025-03-11T06:47:39.813548Z",
     "shell.execute_reply": "2025-03-11T06:47:39.812639Z"
    },
    "papermill": {
     "duration": 0.009812,
     "end_time": "2025-03-11T06:47:39.814967",
     "exception": false,
     "start_time": "2025-03-11T06:47:39.805155",
     "status": "completed"
    },
    "tags": []
   },
   "outputs": [],
   "source": [
    "#-- Function to add drone object to background image -----------------------------------------------------------------------\n",
    "def add_object_to_background(background_img, object_img, x, y):\n",
    "    \n",
    "    object_h, object_w = object_img.shape[:2]\n",
    "    \n",
    "    #-- Crop the region of interest (ROI) from the background with the same size as the object --\n",
    "    roi = background_img[y:y+object_h, x:x+object_w]\n",
    "\n",
    "    #-- Extract the alpha channel as a mask --\n",
    "    object_rgb = object_img[:, :, :3]  #-- RGB channels (BGR)\n",
    "    mask = object_img[:, :, 3] / 255.0  #-- Normalize alpha channel to the range [0,1]\n",
    "\n",
    "    #-- Blend the object with the background based on the alpha mask --\n",
    "    for c in range(3):  # For each color channel (BGR)\n",
    "        roi[:, :, c] = (1 - mask) * roi[:, :, c] + mask * object_rgb[:, :, c]\n",
    "\n",
    "    # --Place the modified region back into the original background--\n",
    "    background_img[y:y+object_h, x:x+object_w] = roi\n",
    "    return background_img\n",
    "#---------------------------------------------------------------------------------------------------------------------------"
   ]
  },
  {
   "cell_type": "code",
   "execution_count": 6,
   "id": "0d6828cb",
   "metadata": {
    "execution": {
     "iopub.execute_input": "2025-03-11T06:47:39.821029Z",
     "iopub.status.busy": "2025-03-11T06:47:39.820728Z",
     "iopub.status.idle": "2025-03-11T06:47:39.826610Z",
     "shell.execute_reply": "2025-03-11T06:47:39.825664Z"
    },
    "papermill": {
     "duration": 0.010352,
     "end_time": "2025-03-11T06:47:39.827963",
     "exception": false,
     "start_time": "2025-03-11T06:47:39.817611",
     "status": "completed"
    },
    "tags": []
   },
   "outputs": [],
   "source": [
    "#-- Function to Displaye Result of Blending Drone and background -----------------------------------------------------------\n",
    "def show_image_with_bbox(image, x_center, y_center, w_norm, h_norm, title):\n",
    "    img_with_bbox = image.copy()\n",
    "    h, w, _ = img_with_bbox.shape      \n",
    "    \n",
    "    bbox_width = int(w_norm * w)\n",
    "    bbox_height = int(h_norm * h)\n",
    "    x_min = int((x_center * w) - (bbox_width / 2))\n",
    "    y_min = int((y_center * h) - (bbox_height / 2))\n",
    "    x_max = x_min + bbox_width\n",
    "    y_max = y_min + bbox_height\n",
    "    \n",
    "    color = (0, 0, 255)  \n",
    "    thickness = 2 \n",
    "    cv2.rectangle(img_with_bbox, (x_min, y_min), (x_max, y_max), color, thickness)\n",
    "    \n",
    "    plt.figure(figsize=(8, 8))\n",
    "    plt.imshow(cv2.cvtColor(img_with_bbox, cv2.COLOR_BGR2RGB)) \n",
    "    plt.axis(\"off\")\n",
    "    plt.title(title)\n",
    "    plt.show()\n",
    "#---------------------------------------------------------------------------------------------------------------------------"
   ]
  },
  {
   "cell_type": "code",
   "execution_count": 7,
   "id": "36921397",
   "metadata": {
    "execution": {
     "iopub.execute_input": "2025-03-11T06:47:39.834157Z",
     "iopub.status.busy": "2025-03-11T06:47:39.833823Z",
     "iopub.status.idle": "2025-03-11T06:50:42.884627Z",
     "shell.execute_reply": "2025-03-11T06:50:42.883772Z"
    },
    "papermill": {
     "duration": 183.055696,
     "end_time": "2025-03-11T06:50:42.886355",
     "exception": false,
     "start_time": "2025-03-11T06:47:39.830659",
     "status": "completed"
    },
    "tags": []
   },
   "outputs": [
    {
     "name": "stdout",
     "output_type": "stream",
     "text": [
      "Processing 1th item: /kaggle/input/n-drone-clear-drones/drones/drone_001.png with /kaggle/input/n-drone-clear-backs/backgrounds/background_3973.jpg\n",
      "Processing 101th item: /kaggle/input/n-drone-clear-drones/drones/drone_023.png with /kaggle/input/n-drone-clear-backs/backgrounds/background_3215.jpg\n",
      "Processing 201th item: /kaggle/input/n-drone-clear-drones/drones/drone_048.png with /kaggle/input/n-drone-clear-backs/backgrounds/background_4744.jpg\n",
      "Processing 301th item: /kaggle/input/n-drone-clear-drones/drones/drone_072.png with /kaggle/input/n-drone-clear-backs/backgrounds/background_4450.jpg\n",
      "Processing 401th item: /kaggle/input/n-drone-clear-drones/drones/drone_099.png with /kaggle/input/n-drone-clear-backs/backgrounds/background_2834.jpg\n",
      "Processing 501th item: /kaggle/input/n-drone-clear-drones/drones/drone_124.png with /kaggle/input/n-drone-clear-backs/backgrounds/background_3637.jpg\n",
      "Processing 601th item: /kaggle/input/n-drone-clear-drones/drones/drone_149.png with /kaggle/input/n-drone-clear-backs/backgrounds/background_1405.jpg\n",
      "Processing 701th item: /kaggle/input/n-drone-clear-drones/drones/drone_173.png with /kaggle/input/n-drone-clear-backs/backgrounds/background_1826.jpg\n",
      "Processing 801th item: /kaggle/input/n-drone-clear-drones/drones/drone_200.png with /kaggle/input/n-drone-clear-backs/backgrounds/background_5295.jpg\n",
      "Processing 901th item: /kaggle/input/n-drone-clear-drones/drones/drone_229.png with /kaggle/input/n-drone-clear-backs/backgrounds/background_2137.jpg\n",
      "Processing 1001th item: /kaggle/input/n-drone-clear-drones/drones/drone_251.png with /kaggle/input/n-drone-clear-backs/backgrounds/background_3556.jpg\n",
      "Processing 1101th item: /kaggle/input/n-drone-clear-drones/drones/drone_280.png with /kaggle/input/n-drone-clear-backs/backgrounds/background_4795.jpg\n",
      "Processing 1201th item: /kaggle/input/n-drone-clear-drones/drones/drone_310.png with /kaggle/input/n-drone-clear-backs/backgrounds/background_4553.jpg\n",
      "Processing 1301th item: /kaggle/input/n-drone-clear-drones/drones/drone_338.png with /kaggle/input/n-drone-clear-backs/backgrounds/background_0182.jpg\n",
      "Processing 1401th item: /kaggle/input/n-drone-clear-drones/drones/drone_360.png with /kaggle/input/n-drone-clear-backs/backgrounds/background_2795.jpg\n"
     ]
    }
   ],
   "source": [
    "#-- Run --------------------------------------------------------------------------------------------------------------------\n",
    "count = 0  \n",
    "\n",
    "for i in range(start_idx, end_idx):\n",
    "    drone = drones[i]\n",
    "    selected_backgrounds = random.sample(backgrounds, min(N_BACKS, len(backgrounds)))  \n",
    "    \n",
    "    for j, background in enumerate(selected_backgrounds):\n",
    "        if count >= batch_size:\n",
    "            break  \n",
    "\n",
    "        if count % 100 == 0:\n",
    "            print(f'Processing {count + 1}th item: {drone} with {background}')\n",
    "\n",
    "        background_path = selected_backgrounds[j]\n",
    "        drone_path = drone\n",
    "\n",
    "        background_img = cv2.imread(background_path)        \n",
    "        drone_img = cv2.imread(drone_path, cv2.IMREAD_UNCHANGED)\n",
    "            \n",
    "        if background_img is None or drone_img is None:\n",
    "            print(f'NONE: {background_path}\\n{drone_path}')\n",
    "            continue   \n",
    "        \n",
    "            \n",
    "        #-- Darken drone_img --        \n",
    "        if drone_img.shape[-1] == 4:            \n",
    "            #-- Split channels --\n",
    "            bgr_channels = drone_img[:, :, :3]  #-- Extract RGB/BGR channels\n",
    "            alpha_channel = drone_img[:, :, 3]  #-- Extract the alpha channel\n",
    "        \n",
    "            #-- Create a mask where alpha > 0 (non-transparent areas) --\n",
    "            mask = alpha_channel > 0  \n",
    "        \n",
    "            #-- Darken only the non-transparent areas (scaling towards black) --             \n",
    "            bgr_channels[mask] = (bgr_channels[mask].astype(np.float32) * darkening_factor).astype(np.uint8)\n",
    "        \n",
    "            #-- Merge back with the unchanged alpha channel --\n",
    "            drone_img = cv2.merge((bgr_channels, alpha_channel))\n",
    "        \n",
    "        else: #-- If there's no alpha channel, just darken the whole image            \n",
    "            drone_img = (drone_img.astype(np.float32) * darkening_factor).astype(np.uint8)        \n",
    "\n",
    "        background_h, background_w, _ = background_img.shape\n",
    "        drone_h, drone_w, _ = drone_img.shape\n",
    "\n",
    "        #-- set scale factor based on ratio --\n",
    "        ratio_w = drone_w / background_w  \n",
    "        ratio_h = drone_h / background_h  \n",
    "        ratio = min(ratio_w, ratio_h)   \n",
    "        ratio = round(ratio,2)  \n",
    "\n",
    "        if ratio <0.04:\n",
    "            continue\n",
    "        elif ratio>=0.04 and ratio<=0.05:\n",
    "            scale_factor = round(random.uniform(0.8,0.9), 2)  \n",
    "        elif ratio>0.05 and ratio<=0.1:\n",
    "            scale_factor = round(random.uniform(0.5,0.7), 2)  \n",
    "        elif ratio>0.1 and ratio<=0.2:\n",
    "            scale_factor = round(random.uniform(0.4,0.6), 2)  \n",
    "        elif ratio>0.2 and ratio<=0.3:\n",
    "            scale_factor = round(random.uniform(0.3,0.5), 2)  \n",
    "        elif ratio>0.3 and ratio<=0.4:\n",
    "            scale_factor = round(random.uniform(0.2,0.4), 2)  \n",
    "        else: # >0.4\n",
    "            scale_factor = round(random.uniform(0.1,0.2), 2)  \n",
    "\n",
    "        new_w = int(drone_w * scale_factor)\n",
    "        new_h = int(drone_h * scale_factor)\n",
    "        drone_img = cv2.resize(drone_img, (new_w, new_h), interpolation=cv2.INTER_AREA)\n",
    "        drone_h, drone_w, _ = drone_img.shape            \n",
    "\n",
    "        #-- Select a random location to place the object --\n",
    "        x_min = random.randint(0, background_w - drone_w)\n",
    "        y_min = random.randint(0, background_h - drone_h)\n",
    "        x_max = x_min + drone_w\n",
    "        y_max = y_min + drone_h        \n",
    "            \n",
    "        #-- Insert the object image onto the background with transparency --\n",
    "        background_with_obj = background_img.copy()\n",
    "        background_with_obj = add_object_to_background(background_with_obj,\n",
    "                                                           drone_img,\n",
    "                                                           x_min, y_min)\n",
    "    \n",
    "        #-- Calculate the Bounding Box in YOLO format --\n",
    "        x_center = (x_min + x_max) / 2 / background_w\n",
    "        y_center = (y_min + y_max) / 2 / background_h\n",
    "        w_norm = drone_w / background_w\n",
    "        h_norm = drone_h / background_h\n",
    "    \n",
    "        #-- Save the result image --\n",
    "        output_img_name = f\"{os.path.basename(drone_path).split('.')[0]}_{scale_factor}_{os.path.basename(background_path).split('.')[0]}.jpg\"\n",
    "        output_img_path = os.path.join(output_path, \"images\", output_img_name)\n",
    "        os.makedirs(os.path.dirname(output_img_path), exist_ok=True)  \n",
    "        cv2.imwrite(output_img_path, background_with_obj)\n",
    "    \n",
    "        #-- Save the YOLO file --\n",
    "        output_txt_name = output_img_name.replace(\".jpg\", \".txt\")\n",
    "        output_txt_path = os.path.join(output_path, \"labels\", output_txt_name)\n",
    "        os.makedirs(os.path.dirname(output_txt_path), exist_ok=True)\n",
    "        with open(output_txt_path, \"w\") as f:\n",
    "            f.write(f\"0 {x_center} {y_center} {w_norm} {h_norm}\\n\")           \n",
    "    \n",
    "        #-- Display the final image with the bounding box --\n",
    "        # title = output_img_name\n",
    "        # show_image_with_bbox(background_with_obj, x_center, y_center, w_norm, h_norm, title)\n",
    "            \n",
    "        count += 1\n",
    "        \n",
    "        if count >= batch_size:\n",
    "            break  \n",
    "    if count >= batch_size:\n",
    "        break\n",
    "#---------------------------------------------------------------------------------------------------------------------------"
   ]
  }
 ],
 "metadata": {
  "kaggle": {
   "accelerator": "none",
   "dataSources": [
    {
     "sourceId": 224751288,
     "sourceType": "kernelVersion"
    },
    {
     "sourceId": 224752987,
     "sourceType": "kernelVersion"
    }
   ],
   "dockerImageVersionId": 30918,
   "isGpuEnabled": false,
   "isInternetEnabled": true,
   "language": "python",
   "sourceType": "notebook"
  },
  "kernelspec": {
   "display_name": "Python 3",
   "language": "python",
   "name": "python3"
  },
  "language_info": {
   "codemirror_mode": {
    "name": "ipython",
    "version": 3
   },
   "file_extension": ".py",
   "mimetype": "text/x-python",
   "name": "python",
   "nbconvert_exporter": "python",
   "pygments_lexer": "ipython3",
   "version": "3.10.12"
  },
  "papermill": {
   "default_parameters": {},
   "duration": 186.613437,
   "end_time": "2025-03-11T06:50:43.308337",
   "environment_variables": {},
   "exception": null,
   "input_path": "__notebook__.ipynb",
   "output_path": "__notebook__.ipynb",
   "parameters": {},
   "start_time": "2025-03-11T06:47:36.694900",
   "version": "2.6.0"
  }
 },
 "nbformat": 4,
 "nbformat_minor": 5
}
